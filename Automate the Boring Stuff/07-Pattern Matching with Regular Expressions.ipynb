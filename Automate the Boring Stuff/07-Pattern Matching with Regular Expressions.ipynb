{
 "cells": [
  {
   "cell_type": "markdown",
   "metadata": {},
   "source": [
    "## Pattrn matching without regular experssions"
   ]
  },
  {
   "cell_type": "markdown",
   "metadata": {},
   "source": [
    "Here is the long winded version of how to find out if a phone number is valid or not. The example has been changed to match UK landline numbers. The code will be different for mobile numbers."
   ]
  },
  {
   "cell_type": "code",
   "execution_count": 17,
   "metadata": {
    "collapsed": false
   },
   "outputs": [
    {
     "name": "stdout",
     "output_type": "stream",
     "text": [
      "True\n",
      "False\n"
     ]
    }
   ],
   "source": [
    "def isPhoneNumber(text):\n",
    "    if len(text) !=13:\n",
    "        return False # there are not enough digits for a landline number\n",
    "    for i in range(0, 4):\n",
    "        if not text[i].isdecimal():\n",
    "            return False\n",
    "    for i in range(5, 7):\n",
    "        if not text[i].isdecimal():\n",
    "            return False\n",
    "    for i in range(9, 12):\n",
    "        if not text[i].isdecimal():\n",
    "            return False\n",
    "    return True\n",
    "\n",
    "\n",
    "print(isPhoneNumber('0113 264 9025'))\n",
    "print(isPhoneNumber('01423 864099'))"
   ]
  },
  {
   "cell_type": "code",
   "execution_count": null,
   "metadata": {
    "collapsed": true
   },
   "outputs": [],
   "source": []
  }
 ],
 "metadata": {
  "kernelspec": {
   "display_name": "Python 3",
   "language": "python",
   "name": "python3"
  },
  "language_info": {
   "codemirror_mode": {
    "name": "ipython",
    "version": 3
   },
   "file_extension": ".py",
   "mimetype": "text/x-python",
   "name": "python",
   "nbconvert_exporter": "python",
   "pygments_lexer": "ipython3",
   "version": "3.5.0"
  }
 },
 "nbformat": 4,
 "nbformat_minor": 0
}
