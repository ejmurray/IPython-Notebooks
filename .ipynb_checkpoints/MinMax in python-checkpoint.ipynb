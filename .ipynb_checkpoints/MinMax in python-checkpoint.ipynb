{
 "cells": [
  {
   "cell_type": "markdown",
   "metadata": {},
   "source": [
    "## Finding the average, min, max and mode in a python list"
   ]
  },
  {
   "cell_type": "markdown",
   "metadata": {},
   "source": [
    "The following function calls four different functions that will be calculated using loops and lists. Note that the examples in here are being converted from python 27 to 35."
   ]
  },
  {
   "cell_type": "code",
   "execution_count": 1,
   "metadata": {
    "collapsed": true
   },
   "outputs": [],
   "source": [
    "def main():\n",
    "    list = [3, 4, 1, 20, 102, 3, 5, 67, 39, 28, 10, 1, 4, 34, 1, 6, 107, 99]\n",
    "    \n",
    "    a = mean(list)\n",
    "    min(list)\n",
    "    max(list)\n",
    "    mode(list)"
   ]
  },
  {
   "cell_type": "code",
   "execution_count": 2,
   "metadata": {
    "collapsed": false
   },
   "outputs": [
    {
     "name": "stdout",
     "output_type": "stream",
     "text": [
      "[3, 4, 1, 20, 102, 3, 5, 67, 39, 28, 10, 1, 4, 34, 1, 6, 107, 99]\n",
      "3\n",
      "4\n",
      "Updated list:\n",
      "[55, 4, 1, 20, 102, 3, 5, 67, 39, 28, 10, 1, 4, 34, 1, 6, 107, 99]\n"
     ]
    }
   ],
   "source": [
    "list = [3, 4, 1, 20, 102, 3, 5, 67, 39, 28, 10, 1, 4, 34, 1, 6, 107, 99]\n",
    "\n",
    "print(list)\n",
    "print(list[0])\n",
    "print(list[1])\n",
    "\n",
    "# exchange an item in the list\n",
    "list[0] = 55\n",
    "print('Updated list:')\n",
    "print(list)"
   ]
  },
  {
   "cell_type": "markdown",
   "metadata": {},
   "source": [
    "### Calculate the average in the list\n",
    "\n",
    "Using a loop of the elements in a list."
   ]
  },
  {
   "cell_type": "code",
   "execution_count": 3,
   "metadata": {
    "collapsed": false
   },
   "outputs": [
    {
     "name": "stdout",
     "output_type": "stream",
     "text": [
      "The average value of the items in the list is: 32.55555555555556\n"
     ]
    }
   ],
   "source": [
    "def average_value():\n",
    "    sum = 0\n",
    "    for elm in list:\n",
    "        sum += elm\n",
    "\n",
    "    print('The average value of the items in the list is: ' + str(sum/len(list)))\n",
    "    \n",
    "average_value()"
   ]
  },
  {
   "cell_type": "markdown",
   "metadata": {},
   "source": [
    "### Calculate the minimum value of an item in a list\n",
    "- Assume that the first element in the list is the minimum value\n",
    "- For the rest of the elements in the array:\n",
    "\t- If the element is smaller then it is the new minimum\n",
    "- Return the minimum value of the list"
   ]
  },
  {
   "cell_type": "code",
   "execution_count": 4,
   "metadata": {
    "collapsed": false
   },
   "outputs": [
    {
     "data": {
      "text/plain": [
       "1"
      ]
     },
     "execution_count": 4,
     "metadata": {},
     "output_type": "execute_result"
    }
   ],
   "source": [
    "list = [3, 4, 1, 20, 102, 3, 5, 67, 39, 28, 10, 1, 4, 34, 1, 6, 107, 99]\n",
    "\n",
    "\n",
    "def min():\n",
    "    \n",
    "    min = list[0]\n",
    "    for elm in list[1:]:\n",
    "        if elm < min:\n",
    "            min = elm\n",
    "    return min\n",
    "\n",
    "min()"
   ]
  },
  {
   "cell_type": "markdown",
   "metadata": {},
   "source": [
    "Maximum value in a list."
   ]
  },
  {
   "cell_type": "code",
   "execution_count": 5,
   "metadata": {
    "collapsed": false
   },
   "outputs": [
    {
     "data": {
      "text/plain": [
       "107"
      ]
     },
     "execution_count": 5,
     "metadata": {},
     "output_type": "execute_result"
    }
   ],
   "source": [
    "list = [3, 4, 1, 20, 102, 3, 5, 67, 39, 28, 10, 1, 4, 34, 1, 6, 107, 99]\n",
    "\n",
    "\n",
    "def max():\n",
    "    max = list[0]\n",
    "    for elm in list[1:]:\n",
    "        if elm > max:\n",
    "            max = elm\n",
    "    return max\n",
    "\n",
    "max()"
   ]
  },
  {
   "cell_type": "code",
   "execution_count": null,
   "metadata": {
    "collapsed": true
   },
   "outputs": [],
   "source": [
    "list = [3, 4, 1, 20, 102, 3, 5, 67, 39, 28, 10, 1, 4, 34, 1, 6, 107, 99]\n",
    "\n",
    "d = {}  # empty dictionary\n",
    "\n",
    "for i in t:\n",
    "    try:\n",
    "        d[i] += "
   ]
  }
 ],
 "metadata": {
  "kernelspec": {
   "display_name": "Python 3",
   "language": "python",
   "name": "python3"
  },
  "language_info": {
   "codemirror_mode": {
    "name": "ipython",
    "version": 3
   },
   "file_extension": ".py",
   "mimetype": "text/x-python",
   "name": "python",
   "nbconvert_exporter": "python",
   "pygments_lexer": "ipython3",
   "version": "3.5.1"
  }
 },
 "nbformat": 4,
 "nbformat_minor": 0
}
