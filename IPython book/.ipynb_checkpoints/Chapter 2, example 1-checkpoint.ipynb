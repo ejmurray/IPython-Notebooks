{
 "cells": [
  {
   "cell_type": "markdown",
   "metadata": {},
   "source": [
    "## Chapert 2, example 1\n",
    "\n",
    "Downloading a Zip file, extracting it in a new folder, etc. Specifically, we download some social data about anonymous volunteer Facebook users.\n",
    "\n",
    "https://goo.gl/bKGzns\n",
    "\n",
    "Taken from code examples from the book Learning IPython for Interactive Computing and Data Visualization, Packt Publishing, by Cyrille Rossant.\n",
    "\n",
    "There may be a problem with the zip file , so you may have to download it an manually place it in the folder."
   ]
  },
  {
   "cell_type": "code",
   "execution_count": 1,
   "metadata": {
    "collapsed": false
   },
   "outputs": [],
   "source": [
    "import zipfile\n",
    "from urllib.request import urlopen "
   ]
  },
  {
   "cell_type": "markdown",
   "metadata": {},
   "source": [
    "Changed the location of the data file"
   ]
  },
  {
   "cell_type": "code",
   "execution_count": 2,
   "metadata": {
    "collapsed": true
   },
   "outputs": [],
   "source": [
    "url = 'https://github.com/ipython-books/minibook-2nd-data/blob/master/'"
   ]
  },
  {
   "cell_type": "code",
   "execution_count": 3,
   "metadata": {
    "collapsed": true
   },
   "outputs": [],
   "source": [
    "filename = 'facebook.zip'"
   ]
  },
  {
   "cell_type": "markdown",
   "metadata": {},
   "source": [
    "See the link here to resolve this in python 3 http://goo.gl/bmovjk"
   ]
  },
  {
   "cell_type": "code",
   "execution_count": 4,
   "metadata": {
    "collapsed": false
   },
   "outputs": [],
   "source": [
    "downloaded = urlopen(url + filename)"
   ]
  },
  {
   "cell_type": "code",
   "execution_count": 5,
   "metadata": {
    "collapsed": false
   },
   "outputs": [],
   "source": [
    "folder = 'data'"
   ]
  },
  {
   "cell_type": "code",
   "execution_count": 6,
   "metadata": {
    "collapsed": true
   },
   "outputs": [],
   "source": [
    "mkdir $folder"
   ]
  },
  {
   "cell_type": "code",
   "execution_count": 7,
   "metadata": {
    "collapsed": false
   },
   "outputs": [
    {
     "name": "stdout",
     "output_type": "stream",
     "text": [
      "C:\\Users\\ernest\\IPython book\\data\n"
     ]
    }
   ],
   "source": [
    "cd $folder"
   ]
  },
  {
   "cell_type": "code",
   "execution_count": 8,
   "metadata": {
    "collapsed": false
   },
   "outputs": [],
   "source": [
    "with open(filename, 'wb') as f:\n",
    "    f.write(downloaded.read())"
   ]
  },
  {
   "cell_type": "markdown",
   "metadata": {},
   "source": [
    "Use the zipfile module to extract the zip file in the data folder"
   ]
  },
  {
   "cell_type": "code",
   "execution_count": 9,
   "metadata": {
    "collapsed": false
   },
   "outputs": [],
   "source": [
    "with zipfile.ZipFile(filename) as zip:\n",
    "    zip.extractall('.')"
   ]
  },
  {
   "cell_type": "code",
   "execution_count": 10,
   "metadata": {
    "collapsed": false
   },
   "outputs": [
    {
     "name": "stdout",
     "output_type": "stream",
     "text": [
      " Volume in drive C has no label.\n",
      " Volume Serial Number is 64A4-FB28\n",
      "\n",
      " Directory of C:\\Users\\ernest\\IPython book\\data\n",
      "\n",
      "07/12/2015  08:59    <DIR>          .\n",
      "07/12/2015  08:59    <DIR>          ..\n",
      "07/12/2015  08:59    <DIR>          facebook\n",
      "07/12/2015  08:43           610,785 facebook.zip\n",
      "               1 File(s)        610,785 bytes\n",
      "               3 Dir(s)  20,817,551,360 bytes free\n"
     ]
    }
   ],
   "source": [
    "ls"
   ]
  },
  {
   "cell_type": "code",
   "execution_count": 11,
   "metadata": {
    "collapsed": false
   },
   "outputs": [
    {
     "name": "stdout",
     "output_type": "stream",
     "text": [
      "C:\\Users\\ernest\\IPython book\\data\\facebook\n"
     ]
    }
   ],
   "source": [
    "cd facebook"
   ]
  },
  {
   "cell_type": "code",
   "execution_count": 12,
   "metadata": {
    "collapsed": false
   },
   "outputs": [
    {
     "name": "stdout",
     "output_type": "stream",
     "text": [
      " Volume in drive C has no label.\n",
      " Volume Serial Number is 64A4-FB28\n",
      "\n",
      " Directory of C:\\Users\\ernest\\IPython book\\data\\facebook\n",
      "\n",
      "07/12/2015  08:59    <DIR>          .\n",
      "07/12/2015  08:59    <DIR>          ..\n",
      "07/12/2015  08:59             1,400 0.circles\n",
      "07/12/2015  08:59            37,228 0.edges\n",
      "07/12/2015  08:59             2,510 107.circles\n",
      "07/12/2015  08:59           523,802 107.edges\n",
      "07/12/2015  08:59             4,022 1684.circles\n",
      "07/12/2015  08:59           280,354 1684.edges\n",
      "07/12/2015  08:59             5,716 1912.circles\n",
      "07/12/2015  08:59           600,274 1912.edges\n",
      "07/12/2015  08:59             1,238 3437.circles\n",
      "07/12/2015  08:59            96,188 3437.edges\n",
      "07/12/2015  08:59             2,382 348.circles\n",
      "07/12/2015  08:59            51,066 348.edges\n",
      "07/12/2015  08:59               432 3980.circles\n",
      "07/12/2015  08:59             2,914 3980.edges\n",
      "07/12/2015  08:59               768 414.circles\n",
      "07/12/2015  08:59            27,082 414.edges\n",
      "07/12/2015  08:59             2,056 686.circles\n",
      "07/12/2015  08:59            26,496 686.edges\n",
      "07/12/2015  08:59               447 698.circles\n",
      "07/12/2015  08:59             4,320 698.edges\n",
      "              20 File(s)      1,670,695 bytes\n",
      "               2 Dir(s)  20,817,489,920 bytes free\n"
     ]
    }
   ],
   "source": [
    "ls"
   ]
  },
  {
   "cell_type": "code",
   "execution_count": 13,
   "metadata": {
    "collapsed": true
   },
   "outputs": [],
   "source": [
    "%bookmark fbdata"
   ]
  },
  {
   "cell_type": "code",
   "execution_count": null,
   "metadata": {
    "collapsed": true
   },
   "outputs": [],
   "source": []
  }
 ],
 "metadata": {
  "kernelspec": {
   "display_name": "Python 3",
   "language": "python",
   "name": "python3"
  },
  "language_info": {
   "codemirror_mode": {
    "name": "ipython",
    "version": 3
   },
   "file_extension": ".py",
   "mimetype": "text/x-python",
   "name": "python",
   "nbconvert_exporter": "python",
   "pygments_lexer": "ipython3",
   "version": "3.5.0"
  }
 },
 "nbformat": 4,
 "nbformat_minor": 0
}
