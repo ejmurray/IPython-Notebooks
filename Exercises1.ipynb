{
 "metadata": {
  "name": "",
  "signature": "sha256:0011f1e5ae3bb39a2ce856cf7f0c6442f0a5ed90d7e6bddedf32407c0c7fd4cb"
 },
 "nbformat": 3,
 "nbformat_minor": 0,
 "worksheets": [
  {
   "cells": [
    {
     "cell_type": "heading",
     "level": 1,
     "metadata": {},
     "source": [
      "Exercises for Session 1"
     ]
    },
    {
     "cell_type": "heading",
     "level": 2,
     "metadata": {},
     "source": [
      "Exercise (4)"
     ]
    },
    {
     "cell_type": "code",
     "collapsed": false,
     "input": [
      "import math"
     ],
     "language": "python",
     "metadata": {},
     "outputs": [],
     "prompt_number": 1
    },
    {
     "cell_type": "code",
     "collapsed": false,
     "input": [
      "favnums = [1, 3.1415, math.sqrt(7), 6, 7.5]"
     ],
     "language": "python",
     "metadata": {},
     "outputs": [],
     "prompt_number": 2
    },
    {
     "cell_type": "code",
     "collapsed": false,
     "input": [
      "for i in favnums:\n",
      "    y = math.cosh(i)**2 - math.sinh(i)**2\n",
      "    test = abs(y - 1) < 1e-6\n",
      "    print('{:7.5f}  {:7.5f}  {}'.format(i, y, test))"
     ],
     "language": "python",
     "metadata": {},
     "outputs": [
      {
       "output_type": "stream",
       "stream": "stdout",
       "text": [
        "1.00000  1.00000  True\n",
        "3.14150  1.00000  True\n",
        "2.64575  1.00000  True\n",
        "6.00000  1.00000  True\n",
        "7.50000  1.00000  True\n"
       ]
      }
     ],
     "prompt_number": 3
    },
    {
     "cell_type": "code",
     "collapsed": false,
     "input": [
      "print([(math.cosh(i)**2 - math.sinh(i)**2 - 1) < 1e-6 for i in favnums])"
     ],
     "language": "python",
     "metadata": {},
     "outputs": [
      {
       "output_type": "stream",
       "stream": "stdout",
       "text": [
        "[True, True, True, True, True]\n"
       ]
      }
     ],
     "prompt_number": 4
    },
    {
     "cell_type": "heading",
     "level": 2,
     "metadata": {},
     "source": [
      "Exercises (5) and (6)"
     ]
    },
    {
     "cell_type": "code",
     "collapsed": false,
     "input": [
      "def is_divisible(x, n):\n",
      "    \"\"\" Find the indices of x where the element is exactly divisible by n.\n",
      "\n",
      "    Arguments:\n",
      "    x - list of numbers to test\n",
      "    n - single divisor\n",
      "\n",
      "    Returns a list of the indices of x for which the value of the element is\n",
      "    divisible by n (to a precision of 1e-6 in the case of floats).\n",
      "\n",
      "    Example:\n",
      "    >>> favnums = [1, 3.1415, math.sqrt(7), 6, 7.5]\n",
      "    >>> divisor = 3\n",
      "    >>> idx = is_divisible(favnums, divisor)\n",
      "    >>> for i in idx:\n",
      "    ...     print('{}, {}'.format(i, favnums[i]))\n",
      "    3, 6\n",
      "\n",
      "    \"\"\"\n",
      "    \n",
      "    r = []\n",
      "    small = 1e-6\n",
      "    for i, m in enumerate(x):\n",
      "        if m % n < small:\n",
      "            r.append(i)\n",
      "    return r"
     ],
     "language": "python",
     "metadata": {},
     "outputs": [],
     "prompt_number": 5
    },
    {
     "cell_type": "code",
     "collapsed": false,
     "input": [
      "help(is_divisible)"
     ],
     "language": "python",
     "metadata": {},
     "outputs": [
      {
       "output_type": "stream",
       "stream": "stdout",
       "text": [
        "Help on function is_divisible in module __main__:\n",
        "\n",
        "is_divisible(x, n)\n",
        "    Find the indices of x where the element is exactly divisible by n.\n",
        "    \n",
        "    Arguments:\n",
        "    x - list of numbers to test\n",
        "    n - single divisor\n",
        "    \n",
        "    Returns a list of the indices of x for which the value of the element is\n",
        "    divisible by n (to a precision of 1e-6 in the case of floats).\n",
        "    \n",
        "    Example:\n",
        "    >>> favnums = [1, 3.1415, math.sqrt(7), 6, 7.5]\n",
        "    >>> divisor = 3\n",
        "    >>> idx = is_divisible(favnums, divisor)\n",
        "    >>> for i in idx:\n",
        "    ...     print('{}, {}'.format(i, favnums[i]))\n",
        "    3, 6\n",
        "\n"
       ]
      }
     ],
     "prompt_number": 6
    },
    {
     "cell_type": "code",
     "collapsed": false,
     "input": [
      "divisor = 3\n",
      "idx = is_divisible(favnums, divisor)\n",
      "for i in idx:\n",
      "    print('Value {} (at index {}) is divisible by {}'.format(favnums[i], i, divisor))"
     ],
     "language": "python",
     "metadata": {},
     "outputs": [
      {
       "output_type": "stream",
       "stream": "stdout",
       "text": [
        "Value 6 (at index 3) is divisible by 3\n"
       ]
      }
     ],
     "prompt_number": 7
    },
    {
     "cell_type": "heading",
     "level": 2,
     "metadata": {},
     "source": [
      "Exercise (7)"
     ]
    },
    {
     "cell_type": "code",
     "collapsed": false,
     "input": [
      "# produce example file\n",
      "file('ex1_7.txt', 'w').write(\n",
      "\"\"\"1 2 3 4 5 6 7 8 9 10\n",
      "1 4 9 16 25 36 49 64 81 100\n",
      "1 8 27 64 125 216 343 512 729 1000\n",
      "1 16 81 256 625 1296 2401 4096 6561 10000\n",
      "\"\"\")"
     ],
     "language": "python",
     "metadata": {},
     "outputs": [],
     "prompt_number": 8
    },
    {
     "cell_type": "code",
     "collapsed": false,
     "input": [
      "def is_divisible_from_file(fname='ex1_7.txt', n=8):\n",
      "    \"\"\" Find values in a file which are exactly divisible by n.\n",
      "\n",
      "    Arguments:\n",
      "    x - filename: file should contain rows of numbers\n",
      "    n - single divisor\n",
      "\n",
      "    Returns a list containing, for each line in the specified file,\n",
      "    lists of the zero-indexed column numbers for which the value is\n",
      "    divisible by n (to a precision of 1e-6).\n",
      "\n",
      "    Example:\n",
      "    >>> is_divisible_from_file('ex1_7.txt', 8)\n",
      "    [[7], [3, 7], [1, 3, 5, 7, 9], [1, 3, 5, 7, 9]]\n",
      "\n",
      "    \"\"\"\n",
      "\n",
      "    r = []\n",
      "    f = file(fname)\n",
      "    for l in f:\n",
      "        x = [float(j) for j in l.split()]\n",
      "        y = []\n",
      "        small = 1e-6\n",
      "        for i, m in enumerate(x):\n",
      "            if m % n < small:\n",
      "                y.append(i)\n",
      "        r.append(y)\n",
      "    return r"
     ],
     "language": "python",
     "metadata": {},
     "outputs": [],
     "prompt_number": 9
    },
    {
     "cell_type": "code",
     "collapsed": false,
     "input": [
      "divisor = 8\n",
      "idxlist = is_divisible_from_file('ex1_7.txt', divisor)\n",
      "print('The values at the following indices are divisible by {}:'.format(divisor))\n",
      "for lineno, idx in enumerate(idxlist):\n",
      "    print('Line {}: {}'.format(lineno, idx))"
     ],
     "language": "python",
     "metadata": {},
     "outputs": [
      {
       "output_type": "stream",
       "stream": "stdout",
       "text": [
        "The values at the following indices are divisible by 8:\n",
        "Line 0: [7]\n",
        "Line 1: [3, 7]\n",
        "Line 2: [1, 3, 5, 7, 9]\n",
        "Line 3: [1, 3, 5, 7, 9]\n"
       ]
      }
     ],
     "prompt_number": 10
    },
    {
     "cell_type": "heading",
     "level": 2,
     "metadata": {},
     "source": [
      "Exercise (8)"
     ]
    },
    {
     "cell_type": "code",
     "collapsed": false,
     "input": [
      "class divtest:\n",
      "    \"\"\" Create an object for testing whether the elements of a list are exactly divisible by n.\n",
      "\n",
      "    Example:\n",
      "        >>> favnums = [1, 3.1415, math.sqrt(7), 6, 7.5]\n",
      "        >>> div3tester = divtest(3)\n",
      "        >>> idx = div3tester.test(favnums)\n",
      "        >>> for i in idx:\n",
      "        ...     print i, favnums[i]\n",
      "        3, 6\n",
      "    \n",
      "    \"\"\"\n",
      "    \n",
      "    def __init__(self, n):\n",
      "        self.n = n\n",
      "\n",
      "    def test(self, x):\n",
      "        r = []\n",
      "        small = 1e-6\n",
      "        for i, m in enumerate(x):\n",
      "            if m % self.n < small:\n",
      "                r.append(i)\n",
      "        return r"
     ],
     "language": "python",
     "metadata": {},
     "outputs": [],
     "prompt_number": 11
    },
    {
     "cell_type": "code",
     "collapsed": false,
     "input": [
      "help(divtest)"
     ],
     "language": "python",
     "metadata": {},
     "outputs": [
      {
       "output_type": "stream",
       "stream": "stdout",
       "text": [
        "Help on class divtest in module __main__:\n",
        "\n",
        "class divtest\n",
        " |  Create an object for testing whether the elements of a list are exactly divisible by n.\n",
        " |  \n",
        " |  Example:\n",
        " |      >>> favnums = [1, 3.1415, math.sqrt(7), 6, 7.5]\n",
        " |      >>> div3tester = divtest(3)\n",
        " |      >>> idx = div3tester.test(favnums)\n",
        " |      >>> for i in idx:\n",
        " |      ...     print i, favnums[i]\n",
        " |      3, 6\n",
        " |  \n",
        " |  Methods defined here:\n",
        " |  \n",
        " |  __init__(self, n)\n",
        " |  \n",
        " |  test(self, x)\n",
        "\n"
       ]
      }
     ],
     "prompt_number": 12
    },
    {
     "cell_type": "code",
     "collapsed": false,
     "input": [
      "divisor = 3\n",
      "div3tester = divtest(divisor)\n",
      "idx = div3tester.test(favnums)\n",
      "for i in idx:\n",
      "    print('Value {} (at index {}) is divisible by {}'.format(favnums[i], i, divisor))"
     ],
     "language": "python",
     "metadata": {},
     "outputs": [
      {
       "output_type": "stream",
       "stream": "stdout",
       "text": [
        "Value 6 (at index 3) is divisible by 3\n"
       ]
      }
     ],
     "prompt_number": 13
    }
   ],
   "metadata": {}
  }
 ]
}