{
 "cells": [
  {
   "cell_type": "code",
   "execution_count": null,
   "metadata": {
    "collapsed": false
   },
   "outputs": [
    {
     "name": "stdout",
     "output_type": "stream",
     "text": [
      "What item are you looking for? pears\n"
     ]
    }
   ],
   "source": [
    "# linear serach alogrithm from\n",
    "# http://www.pythonschool.net/data-structures-algorithms/linear-search/\n",
    "\n",
    "def linearSearch(myItem, myList):\n",
    "    found = False\n",
    "    position = 0\n",
    "    \n",
    "    while position < len(myList) and not found:\n",
    "        if myList[position] == myItem:\n",
    "            found = True\n",
    "        position += position\n",
    "    return found\n",
    "    \n",
    "    \n",
    "if __name__ == \"__main__\":\n",
    "    shopping = [\"apples\", \"pears\", \"chocolate\", \"bananna\", \"cakes\"]\n",
    "    item = input(\"What item are you looking for? \")\n",
    "    isitFound = linearSearch(item, shopping)\n",
    "    if isitFound:\n",
    "        print(\"Your item is in the list!\")\n",
    "    else:\n",
    "        print(\"Your item is not in the list!\")"
   ]
  },
  {
   "cell_type": "code",
   "execution_count": null,
   "metadata": {
    "collapsed": true
   },
   "outputs": [],
   "source": []
  },
  {
   "cell_type": "code",
   "execution_count": null,
   "metadata": {
    "collapsed": true
   },
   "outputs": [],
   "source": []
  }
 ],
 "metadata": {
  "kernelspec": {
   "display_name": "Python 3",
   "language": "python",
   "name": "python3"
  },
  "language_info": {
   "codemirror_mode": {
    "name": "ipython",
    "version": 3
   },
   "file_extension": ".py",
   "mimetype": "text/x-python",
   "name": "python",
   "nbconvert_exporter": "python",
   "pygments_lexer": "ipython3",
   "version": "3.5.0"
  }
 },
 "nbformat": 4,
 "nbformat_minor": 0
}
