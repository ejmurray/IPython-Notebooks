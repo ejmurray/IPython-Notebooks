{
 "cells": [
  {
   "cell_type": "markdown",
   "metadata": {},
   "source": [
    "## Finding the average, min, max and mode in a python list"
   ]
  },
  {
   "cell_type": "markdown",
   "metadata": {},
   "source": [
    "The following function calls four different functions that will be calculated using loops and lists. Note that the examples in here are being converted from python 27 to 35."
   ]
  },
  {
   "cell_type": "code",
   "execution_count": 1,
   "metadata": {
    "collapsed": true
   },
   "outputs": [],
   "source": [
    "def main():\n",
    "    list = [3, 4, 1, 20, 102, 3, 5, 67, 39, 28, 10, 1, 4, 34, 1, 6, 107, 99]\n",
    "    \n",
    "    a = mean(list)\n",
    "    min(list)\n",
    "    max(list)\n",
    "    mode(list)"
   ]
  },
  {
   "cell_type": "code",
   "execution_count": 2,
   "metadata": {
    "collapsed": false
   },
   "outputs": [
    {
     "name": "stdout",
     "output_type": "stream",
     "text": [
      "[3, 4, 1, 20, 102, 3, 5, 67, 39, 28, 10, 1, 4, 34, 1, 6, 107, 99]\n",
      "3\n",
      "4\n",
      "Updated list:\n",
      "[55, 4, 1, 20, 102, 3, 5, 67, 39, 28, 10, 1, 4, 34, 1, 6, 107, 99]\n"
     ]
    }
   ],
   "source": [
    "list = [3, 4, 1, 20, 102, 3, 5, 67, 39, 28, 10, 1, 4, 34, 1, 6, 107, 99]\n",
    "\n",
    "print(list)\n",
    "print(list[0])\n",
    "print(list[1])\n",
    "\n",
    "# exchange an item in the list\n",
    "list[0] = 55\n",
    "print('Updated list:')\n",
    "print(list)"
   ]
  },
  {
   "cell_type": "markdown",
   "metadata": {},
   "source": [
    "### Calculate the average in the list\n",
    "\n",
    "Using a loop of the elements in a list."
   ]
  },
  {
   "cell_type": "code",
   "execution_count": 3,
   "metadata": {
    "collapsed": false
   },
   "outputs": [
    {
     "name": "stdout",
     "output_type": "stream",
     "text": [
      "The average value of the items in the list is: 32.55555555555556\n"
     ]
    }
   ],
   "source": [
    "def average_value():\n",
    "    sum = 0\n",
    "    for elm in list:\n",
    "        sum += elm\n",
    "\n",
    "    print('The average value of the items in the list is: ' + str(sum/len(list)))\n",
    "    \n",
    "average_value()"
   ]
  },
  {
   "cell_type": "markdown",
   "metadata": {},
   "source": [
    "### Calculate the minimum value of an item in a list\n",
    "- Assume that the first element in the list is the minimum value\n",
    "- For the rest of the elements in the array:\n",
    "\t- If the element is smaller then it is the new minimum\n",
    "- Return the minimum value of the list"
   ]
  },
  {
   "cell_type": "code",
   "execution_count": 4,
   "metadata": {
    "collapsed": false
   },
   "outputs": [
    {
     "data": {
      "text/plain": [
       "1"
      ]
     },
     "execution_count": 4,
     "metadata": {},
     "output_type": "execute_result"
    }
   ],
   "source": [
    "list = [3, 4, 1, 20, 102, 3, 5, 67, 39, 28, 10, 1, 4, 34, 1, 6, 107, 99]\n",
    "\n",
    "\n",
    "def min():\n",
    "    \n",
    "    min = list[0]\n",
    "    for elm in list[1:]:\n",
    "        if elm < min:\n",
    "            min = elm\n",
    "    return min\n",
    "\n",
    "min()"
   ]
  },
  {
   "cell_type": "markdown",
   "metadata": {},
   "source": [
    "Maximum value in a list."
   ]
  },
  {
   "cell_type": "code",
   "execution_count": 11,
   "metadata": {
    "collapsed": false
   },
   "outputs": [
    {
     "data": {
      "text/plain": [
       "107"
      ]
     },
     "execution_count": 11,
     "metadata": {},
     "output_type": "execute_result"
    }
   ],
   "source": [
    "list = [3, 4, 1, 20, 102, 3, 5, 67, 39, 28, 10, 1, 4, 34, 1, 6, 107, 99]\n",
    "\n",
    "\n",
    "def max():\n",
    "    max = list[0]\n",
    "    for elm in list[1:]:\n",
    "        if elm > max:\n",
    "            max = elm\n",
    "    return max\n",
    "\n",
    "max()"
   ]
  },
  {
   "cell_type": "markdown",
   "metadata": {},
   "source": [
    "The mode is the number or numbers that occur the most often in the list. The next cell generates the dictionary of the counts."
   ]
  },
  {
   "cell_type": "code",
   "execution_count": 34,
   "metadata": {
    "collapsed": false
   },
   "outputs": [
    {
     "name": "stdout",
     "output_type": "stream",
     "text": [
      "{1: 3, 34: 1, 67: 1, 4: 2, 5: 1, 102: 1, 39: 1, 10: 1, 107: 1, 99: 1, 3: 2, 20: 1, 6: 1, 28: 1}\n"
     ]
    }
   ],
   "source": [
    "list = [3, 4, 1, 20, 102, 3, 5, 67, 39, 28, 10, 1, 4, 34, 1, 6, 107, 99]\n",
    "\n",
    "d = {}  # empty dictionary\n",
    "\n",
    "for i in list:\n",
    "    try:\n",
    "        d[i] += 1\n",
    "    except(KeyError):\n",
    "        d[i] = 1\n",
    "        \n",
    "print(d)"
   ]
  },
  {
   "cell_type": "code",
   "execution_count": 36,
   "metadata": {
    "collapsed": false
   },
   "outputs": [
    {
     "ename": "SyntaxError",
     "evalue": "invalid syntax (<ipython-input-36-2593491f08a0>, line 2)",
     "output_type": "error",
     "traceback": [
      "\u001b[1;36m  File \u001b[1;32m\"<ipython-input-36-2593491f08a0>\"\u001b[1;36m, line \u001b[1;32m2\u001b[0m\n\u001b[1;33m    if d[key] > max\u001b[0m\n\u001b[1;37m                   ^\u001b[0m\n\u001b[1;31mSyntaxError\u001b[0m\u001b[1;31m:\u001b[0m invalid syntax\n"
     ]
    }
   ],
   "source": [
    "for key in keys[1:]:\n",
    "    if d[key] > max\n",
    "    max = d[keys]"
   ]
  },
  {
   "cell_type": "code",
   "execution_count": 31,
   "metadata": {
    "collapsed": false
   },
   "outputs": [
    {
     "name": "stdout",
     "output_type": "stream",
     "text": [
      "The average element of the list is: 29.764705882352942\n",
      "The minimum value in the list is: 1\n",
      "The maximum value in the list is: 107\n"
     ]
    },
    {
     "ename": "TypeError",
     "evalue": "'dict_keys' object does not support indexing",
     "output_type": "error",
     "traceback": [
      "\u001b[1;31m---------------------------------------------------------------------------\u001b[0m",
      "\u001b[1;31mTypeError\u001b[0m                                 Traceback (most recent call last)",
      "\u001b[1;32m<ipython-input-31-e415b38ed1d6>\u001b[0m in \u001b[0;36m<module>\u001b[1;34m()\u001b[0m\n\u001b[0;32m     67\u001b[0m \u001b[1;33m\u001b[0m\u001b[0m\n\u001b[0;32m     68\u001b[0m \u001b[1;32mif\u001b[0m \u001b[0m__name__\u001b[0m \u001b[1;33m==\u001b[0m \u001b[1;34m\"__main__\"\u001b[0m\u001b[1;33m:\u001b[0m\u001b[1;33m\u001b[0m\u001b[0m\n\u001b[1;32m---> 69\u001b[1;33m     \u001b[0mmain\u001b[0m\u001b[1;33m(\u001b[0m\u001b[1;33m)\u001b[0m\u001b[1;33m\u001b[0m\u001b[0m\n\u001b[0m",
      "\u001b[1;32m<ipython-input-31-e415b38ed1d6>\u001b[0m in \u001b[0;36mmain\u001b[1;34m()\u001b[0m\n\u001b[0;32m     61\u001b[0m     \u001b[0mprint\u001b[0m\u001b[1;33m(\u001b[0m\u001b[1;34m\"The maximum value in the list is: \"\u001b[0m \u001b[1;33m+\u001b[0m \u001b[0mstr\u001b[0m\u001b[1;33m(\u001b[0m\u001b[0mmax\u001b[0m\u001b[1;33m(\u001b[0m\u001b[0mlist\u001b[0m\u001b[1;33m)\u001b[0m\u001b[1;33m)\u001b[0m\u001b[1;33m)\u001b[0m\u001b[1;33m\u001b[0m\u001b[0m\n\u001b[0;32m     62\u001b[0m \u001b[1;33m\u001b[0m\u001b[0m\n\u001b[1;32m---> 63\u001b[1;33m     \u001b[0mkeys\u001b[0m \u001b[1;33m=\u001b[0m \u001b[0mmode\u001b[0m\u001b[1;33m(\u001b[0m\u001b[0mlist\u001b[0m\u001b[1;33m)\u001b[0m\u001b[1;33m\u001b[0m\u001b[0m\n\u001b[0m\u001b[0;32m     64\u001b[0m     \u001b[0mprint\u001b[0m\u001b[1;33m(\u001b[0m\u001b[1;34m\"The mode of the list is: \"\u001b[0m \u001b[1;33m+\u001b[0m \u001b[1;34m','\u001b[0m\u001b[1;33m.\u001b[0m\u001b[0mjoin\u001b[0m\u001b[1;33m(\u001b[0m\u001b[0mmap\u001b[0m\u001b[1;33m(\u001b[0m\u001b[0mstr\u001b[0m\u001b[1;33m,\u001b[0m\u001b[0mkeys\u001b[0m\u001b[1;33m[\u001b[0m\u001b[1;36m0\u001b[0m\u001b[1;33m]\u001b[0m\u001b[1;33m)\u001b[0m\u001b[1;33m)\u001b[0m \u001b[1;33m+\u001b[0m \u001b[1;34m\" with the mode of: \"\u001b[0m \u001b[1;33m+\u001b[0m \u001b[0mstr\u001b[0m\u001b[1;33m(\u001b[0m\u001b[0mkeys\u001b[0m\u001b[1;33m[\u001b[0m\u001b[1;36m1\u001b[0m\u001b[1;33m]\u001b[0m\u001b[1;33m)\u001b[0m\u001b[1;33m)\u001b[0m\u001b[1;33m\u001b[0m\u001b[0m\n\u001b[0;32m     65\u001b[0m     \u001b[0mprint\u001b[0m\u001b[1;33m(\u001b[0m\u001b[1;34m\"The range of the list is: \"\u001b[0m \u001b[1;33m+\u001b[0m \u001b[0mstr\u001b[0m\u001b[1;33m(\u001b[0m\u001b[0mrange_of_list\u001b[0m\u001b[1;33m(\u001b[0m\u001b[0mlist\u001b[0m\u001b[1;33m)\u001b[0m\u001b[1;33m)\u001b[0m\u001b[1;33m)\u001b[0m\u001b[1;33m\u001b[0m\u001b[0m\n",
      "\u001b[1;32m<ipython-input-31-e415b38ed1d6>\u001b[0m in \u001b[0;36mmode\u001b[1;34m(list)\u001b[0m\n\u001b[0;32m     38\u001b[0m \u001b[1;33m\u001b[0m\u001b[0m\n\u001b[0;32m     39\u001b[0m         \u001b[0mkeys\u001b[0m \u001b[1;33m=\u001b[0m \u001b[0md\u001b[0m\u001b[1;33m.\u001b[0m\u001b[0mkeys\u001b[0m\u001b[1;33m(\u001b[0m\u001b[1;33m)\u001b[0m\u001b[1;33m\u001b[0m\u001b[0m\n\u001b[1;32m---> 40\u001b[1;33m         \u001b[0mmax\u001b[0m \u001b[1;33m=\u001b[0m \u001b[0md\u001b[0m\u001b[1;33m[\u001b[0m\u001b[0mkeys\u001b[0m\u001b[1;33m[\u001b[0m\u001b[1;36m0\u001b[0m\u001b[1;33m]\u001b[0m\u001b[1;33m]\u001b[0m\u001b[1;33m\u001b[0m\u001b[0m\n\u001b[0m\u001b[0;32m     41\u001b[0m \u001b[1;33m\u001b[0m\u001b[0m\n\u001b[0;32m     42\u001b[0m     \u001b[1;32mfor\u001b[0m \u001b[0mkey\u001b[0m \u001b[1;32min\u001b[0m \u001b[0mkeys\u001b[0m\u001b[1;33m[\u001b[0m\u001b[1;36m1\u001b[0m\u001b[1;33m:\u001b[0m\u001b[1;33m]\u001b[0m\u001b[1;33m:\u001b[0m\u001b[1;33m\u001b[0m\u001b[0m\n",
      "\u001b[1;31mTypeError\u001b[0m: 'dict_keys' object does not support indexing"
     ]
    }
   ],
   "source": [
    "def avg(list):\n",
    "\n",
    "    sum = 0\n",
    "\n",
    "    for elm in list:\n",
    "        sum += elm\n",
    "\n",
    "    return sum/(len(list)*1.0)\n",
    "\n",
    "def min(list):\n",
    "\n",
    "    min = list[0]\n",
    "\n",
    "    for elm in list[1:]:\n",
    "        if elm < min: \n",
    "            min = elm\n",
    "\n",
    "    return min\n",
    "\n",
    "def max(list):\n",
    "\n",
    "    max = list[0]\n",
    "\n",
    "    for elm in list[1:]:\n",
    "        if elm > max: \n",
    "            max = elm\n",
    "\n",
    "    return max\n",
    "\n",
    "def mode(list):\n",
    "\n",
    "    d = {}\n",
    "    for elm in list:\n",
    "        try:\n",
    "            d[elm] += 1\n",
    "        except(KeyError):\n",
    "            d[elm] = 1\n",
    "\n",
    "        keys = d.keys()\n",
    "        max = d[keys[0]]\n",
    "\n",
    "    for key in keys[1:]:\n",
    "        if d[key] > max:\n",
    "            max = d[key]\n",
    "\n",
    "    max_k = []\n",
    "    for key in keys:\n",
    "        if d[key] == max:\n",
    "            max_k.append(key),\n",
    "    return max_k,max\n",
    "\n",
    "def range_of_list(list):\n",
    "    return max(list) - min(list)\n",
    "\n",
    "def main():\n",
    "    \n",
    "    list = [3,4,1,20,102,3,5,67,39,10,1,4,34,1,6,107,99]\n",
    "    \n",
    "    print(\"The average element of the list is: \" + str(avg(list)))\n",
    "    print(\"The minimum value in the list is: \" + str(min(list)))\n",
    "    print(\"The maximum value in the list is: \" + str(max(list)))\n",
    "\n",
    "    keys = mode(list)\n",
    "    print(\"The mode of the list is: \" + ','.join(map(str,keys[0])) + \" with the mode of: \" + str(keys[1]))\n",
    "    print(\"The range of the list is: \" + str(range_of_list(list)))\n",
    "\n",
    "    \n",
    "if __name__ == \"__main__\":\n",
    "    main()"
   ]
  },
  {
   "cell_type": "code",
   "execution_count": null,
   "metadata": {
    "collapsed": true
   },
   "outputs": [],
   "source": []
  }
 ],
 "metadata": {
  "kernelspec": {
   "display_name": "Python 3",
   "language": "python",
   "name": "python3"
  },
  "language_info": {
   "codemirror_mode": {
    "name": "ipython",
    "version": 3
   },
   "file_extension": ".py",
   "mimetype": "text/x-python",
   "name": "python",
   "nbconvert_exporter": "python",
   "pygments_lexer": "ipython3",
   "version": "3.5.1"
  }
 },
 "nbformat": 4,
 "nbformat_minor": 0
}
